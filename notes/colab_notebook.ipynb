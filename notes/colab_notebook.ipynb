#!/usr/bin/env python3
# -*- coding: utf-8 -*-
"""
Created on Mon May 25 21:21:11 2020

@author: ghiggi
"""

from google.colab import 
# Mount google drive on the colab runtime
drive.mount(‘/content/gdrive’)
drive.mount(‘/content/drive’)
# Look at the files on google drive
! ls

## Access the project folder 
%cd gdrive/My Drive/project_folder

# Clone git repository
! git clone link/to/your/repo

! git pull

# Install opencv
!apt-get -qq install -y libsm6 libxext6 && pip install -q -U opencv-python

# https://github.com/mixuala/colab_utils
# https://towardsdatascience.com/google-drive-google-colab-github-dont-just-read-do-it-5554d5824228
# https://zerowithdot.com/colab-github-workflow/

# Install packages on colab runtime
# pip freeze > requirements.txt 
! pip install -r requirements.txt
! pip install -q <desired-python-library>
! pip install -q keras 
## Access the project folder 
%cd gdrive/My Drive/project_folder/cloned_repo_folder

# Look at memory 
!cat /proc/cpuinfo
!cat /proc/meminfo

# Change working directory 
import os
os.chdir("drive/app")

! git pull

#%% Run Tensorboard
!wget https://bin.equinox.io/c/4VmDzA7iaHb/ngrok-stable-linux-amd64.zip
!unzip ngrok-stable-linux-amd64.zip

import os
LOG_DIR = 'tb_logs'
if not os.path.exists(LOG_DIR):
  os.makedirs(LOG_DIR)
  
get_ipython().system_raw(
    'tensorboard --logdir {} --host 0.0.0.0 --port 6006 &'
    .format(LOG_DIR))

get_ipython().system_raw('./ngrok http 6006 &')

!curl -s http://localhost:4040/api/tunnels | python3 -c \
    "import sys, json; print(json.load(sys.stdin)['tunnels'][0]['public_url'])"

# Tensorboard options (to be added to callback) 
tbCallBack = TensorBoard(log_dir=LOG_DIR, 
                         histogram_freq=1,
                         write_graph=True,
                         write_grads=True,
                         batch_size=batch_size,
                         write_images=True)

#%% Restart Google Colab
!kill -9 -1